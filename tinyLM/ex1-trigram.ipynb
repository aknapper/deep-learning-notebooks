{
 "cells": [
  {
   "cell_type": "code",
   "execution_count": 4,
   "id": "e2d07e38",
   "metadata": {},
   "outputs": [],
   "source": [
    "# Goal:  train a trigram language model, \n",
    "# i.e. take two characters as an input to predict the 3rd one.\n",
    "# Feel free to use either counting or a neural net. \n",
    "# Evaluate the loss; Did it improve over a bigram model?"
   ]
  }
 ],
 "metadata": {
  "kernelspec": {
   "display_name": "Python 3 (ipykernel)",
   "language": "python",
   "name": "python3"
  },
  "language_info": {
   "codemirror_mode": {
    "name": "ipython",
    "version": 3
   },
   "file_extension": ".py",
   "mimetype": "text/x-python",
   "name": "python",
   "nbconvert_exporter": "python",
   "pygments_lexer": "ipython3",
   "version": "3.10.6"
  }
 },
 "nbformat": 4,
 "nbformat_minor": 5
}
